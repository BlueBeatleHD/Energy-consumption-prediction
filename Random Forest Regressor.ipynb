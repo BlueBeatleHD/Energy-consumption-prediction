{
 "cells": [
  {
   "cell_type": "code",
   "execution_count": 1,
   "id": "0b99dbaf",
   "metadata": {
    "execution": {
     "iopub.execute_input": "2024-01-25T16:31:42.055496Z",
     "iopub.status.busy": "2024-01-25T16:31:42.055089Z",
     "iopub.status.idle": "2024-01-25T16:31:44.008370Z",
     "shell.execute_reply": "2024-01-25T16:31:44.007265Z"
    },
    "papermill": {
     "duration": 1.96101,
     "end_time": "2024-01-25T16:31:44.011068",
     "exception": false,
     "start_time": "2024-01-25T16:31:42.050058",
     "status": "completed"
    },
    "tags": []
   },
   "outputs": [],
   "source": [
    "import pandas as pd\n",
    "from sklearn.model_selection import train_test_split\n",
    "from sklearn.ensemble import RandomForestRegressor\n",
    "from sklearn.metrics import mean_squared_error\n",
    "import matplotlib.pyplot as plt\n"
   ]
  },
  {
   "cell_type": "code",
   "execution_count": 2,
   "id": "b68f4e81",
   "metadata": {
    "execution": {
     "iopub.execute_input": "2024-01-25T16:31:44.018967Z",
     "iopub.status.busy": "2024-01-25T16:31:44.018435Z",
     "iopub.status.idle": "2024-01-25T16:31:44.078456Z",
     "shell.execute_reply": "2024-01-25T16:31:44.077455Z"
    },
    "papermill": {
     "duration": 0.066903,
     "end_time": "2024-01-25T16:31:44.081260",
     "exception": false,
     "start_time": "2024-01-25T16:31:44.014357",
     "status": "completed"
    },
    "tags": []
   },
   "outputs": [
    {
     "data": {
      "text/html": [
       "<div>\n",
       "<style scoped>\n",
       "    .dataframe tbody tr th:only-of-type {\n",
       "        vertical-align: middle;\n",
       "    }\n",
       "\n",
       "    .dataframe tbody tr th {\n",
       "        vertical-align: top;\n",
       "    }\n",
       "\n",
       "    .dataframe thead th {\n",
       "        text-align: right;\n",
       "    }\n",
       "</style>\n",
       "<table border=\"1\" class=\"dataframe\">\n",
       "  <thead>\n",
       "    <tr style=\"text-align: right;\">\n",
       "      <th></th>\n",
       "      <th>Timestamp</th>\n",
       "      <th>Temperature</th>\n",
       "      <th>Humidity</th>\n",
       "      <th>SquareFootage</th>\n",
       "      <th>Occupancy</th>\n",
       "      <th>HVACUsage</th>\n",
       "      <th>LightingUsage</th>\n",
       "      <th>RenewableEnergy</th>\n",
       "      <th>DayOfWeek</th>\n",
       "      <th>Holiday</th>\n",
       "      <th>EnergyConsumption</th>\n",
       "    </tr>\n",
       "  </thead>\n",
       "  <tbody>\n",
       "    <tr>\n",
       "      <th>0</th>\n",
       "      <td>2022-01-01 00:00:00</td>\n",
       "      <td>25.139433</td>\n",
       "      <td>43.431581</td>\n",
       "      <td>1565.693999</td>\n",
       "      <td>5</td>\n",
       "      <td>On</td>\n",
       "      <td>Off</td>\n",
       "      <td>2.774699</td>\n",
       "      <td>Monday</td>\n",
       "      <td>No</td>\n",
       "      <td>75.364373</td>\n",
       "    </tr>\n",
       "    <tr>\n",
       "      <th>1</th>\n",
       "      <td>2022-01-01 01:00:00</td>\n",
       "      <td>27.731651</td>\n",
       "      <td>54.225919</td>\n",
       "      <td>1411.064918</td>\n",
       "      <td>1</td>\n",
       "      <td>On</td>\n",
       "      <td>On</td>\n",
       "      <td>21.831384</td>\n",
       "      <td>Saturday</td>\n",
       "      <td>No</td>\n",
       "      <td>83.401855</td>\n",
       "    </tr>\n",
       "    <tr>\n",
       "      <th>2</th>\n",
       "      <td>2022-01-01 02:00:00</td>\n",
       "      <td>28.704277</td>\n",
       "      <td>58.907658</td>\n",
       "      <td>1755.715009</td>\n",
       "      <td>2</td>\n",
       "      <td>Off</td>\n",
       "      <td>Off</td>\n",
       "      <td>6.764672</td>\n",
       "      <td>Sunday</td>\n",
       "      <td>No</td>\n",
       "      <td>78.270888</td>\n",
       "    </tr>\n",
       "    <tr>\n",
       "      <th>3</th>\n",
       "      <td>2022-01-01 03:00:00</td>\n",
       "      <td>20.080469</td>\n",
       "      <td>50.371637</td>\n",
       "      <td>1452.316318</td>\n",
       "      <td>1</td>\n",
       "      <td>Off</td>\n",
       "      <td>On</td>\n",
       "      <td>8.623447</td>\n",
       "      <td>Wednesday</td>\n",
       "      <td>No</td>\n",
       "      <td>56.519850</td>\n",
       "    </tr>\n",
       "    <tr>\n",
       "      <th>4</th>\n",
       "      <td>2022-01-01 04:00:00</td>\n",
       "      <td>23.097359</td>\n",
       "      <td>51.401421</td>\n",
       "      <td>1094.130359</td>\n",
       "      <td>9</td>\n",
       "      <td>On</td>\n",
       "      <td>Off</td>\n",
       "      <td>3.071969</td>\n",
       "      <td>Friday</td>\n",
       "      <td>No</td>\n",
       "      <td>70.811732</td>\n",
       "    </tr>\n",
       "    <tr>\n",
       "      <th>...</th>\n",
       "      <td>...</td>\n",
       "      <td>...</td>\n",
       "      <td>...</td>\n",
       "      <td>...</td>\n",
       "      <td>...</td>\n",
       "      <td>...</td>\n",
       "      <td>...</td>\n",
       "      <td>...</td>\n",
       "      <td>...</td>\n",
       "      <td>...</td>\n",
       "      <td>...</td>\n",
       "    </tr>\n",
       "    <tr>\n",
       "      <th>995</th>\n",
       "      <td>2022-02-11 11:00:00</td>\n",
       "      <td>28.619382</td>\n",
       "      <td>48.850160</td>\n",
       "      <td>1080.087000</td>\n",
       "      <td>5</td>\n",
       "      <td>Off</td>\n",
       "      <td>Off</td>\n",
       "      <td>21.194696</td>\n",
       "      <td>Saturday</td>\n",
       "      <td>No</td>\n",
       "      <td>82.306692</td>\n",
       "    </tr>\n",
       "    <tr>\n",
       "      <th>996</th>\n",
       "      <td>2022-02-11 12:00:00</td>\n",
       "      <td>23.836647</td>\n",
       "      <td>47.256435</td>\n",
       "      <td>1705.235156</td>\n",
       "      <td>4</td>\n",
       "      <td>Off</td>\n",
       "      <td>On</td>\n",
       "      <td>25.748176</td>\n",
       "      <td>Tuesday</td>\n",
       "      <td>Yes</td>\n",
       "      <td>66.577320</td>\n",
       "    </tr>\n",
       "    <tr>\n",
       "      <th>997</th>\n",
       "      <td>2022-02-11 13:00:00</td>\n",
       "      <td>23.005340</td>\n",
       "      <td>48.720501</td>\n",
       "      <td>1320.285281</td>\n",
       "      <td>6</td>\n",
       "      <td>Off</td>\n",
       "      <td>On</td>\n",
       "      <td>0.297079</td>\n",
       "      <td>Friday</td>\n",
       "      <td>Yes</td>\n",
       "      <td>72.753471</td>\n",
       "    </tr>\n",
       "    <tr>\n",
       "      <th>998</th>\n",
       "      <td>2022-02-11 14:00:00</td>\n",
       "      <td>25.138365</td>\n",
       "      <td>31.306459</td>\n",
       "      <td>1309.079719</td>\n",
       "      <td>3</td>\n",
       "      <td>On</td>\n",
       "      <td>Off</td>\n",
       "      <td>20.425163</td>\n",
       "      <td>Thursday</td>\n",
       "      <td>Yes</td>\n",
       "      <td>76.950389</td>\n",
       "    </tr>\n",
       "    <tr>\n",
       "      <th>999</th>\n",
       "      <td>2022-02-11 15:00:00</td>\n",
       "      <td>23.051165</td>\n",
       "      <td>42.615421</td>\n",
       "      <td>1018.140606</td>\n",
       "      <td>6</td>\n",
       "      <td>Off</td>\n",
       "      <td>On</td>\n",
       "      <td>2.455657</td>\n",
       "      <td>Saturday</td>\n",
       "      <td>No</td>\n",
       "      <td>71.545311</td>\n",
       "    </tr>\n",
       "  </tbody>\n",
       "</table>\n",
       "<p>1000 rows × 11 columns</p>\n",
       "</div>"
      ],
      "text/plain": [
       "               Timestamp  Temperature   Humidity  SquareFootage  Occupancy  \\\n",
       "0    2022-01-01 00:00:00    25.139433  43.431581    1565.693999          5   \n",
       "1    2022-01-01 01:00:00    27.731651  54.225919    1411.064918          1   \n",
       "2    2022-01-01 02:00:00    28.704277  58.907658    1755.715009          2   \n",
       "3    2022-01-01 03:00:00    20.080469  50.371637    1452.316318          1   \n",
       "4    2022-01-01 04:00:00    23.097359  51.401421    1094.130359          9   \n",
       "..                   ...          ...        ...            ...        ...   \n",
       "995  2022-02-11 11:00:00    28.619382  48.850160    1080.087000          5   \n",
       "996  2022-02-11 12:00:00    23.836647  47.256435    1705.235156          4   \n",
       "997  2022-02-11 13:00:00    23.005340  48.720501    1320.285281          6   \n",
       "998  2022-02-11 14:00:00    25.138365  31.306459    1309.079719          3   \n",
       "999  2022-02-11 15:00:00    23.051165  42.615421    1018.140606          6   \n",
       "\n",
       "    HVACUsage LightingUsage  RenewableEnergy  DayOfWeek Holiday  \\\n",
       "0          On           Off         2.774699     Monday      No   \n",
       "1          On            On        21.831384   Saturday      No   \n",
       "2         Off           Off         6.764672     Sunday      No   \n",
       "3         Off            On         8.623447  Wednesday      No   \n",
       "4          On           Off         3.071969     Friday      No   \n",
       "..        ...           ...              ...        ...     ...   \n",
       "995       Off           Off        21.194696   Saturday      No   \n",
       "996       Off            On        25.748176    Tuesday     Yes   \n",
       "997       Off            On         0.297079     Friday     Yes   \n",
       "998        On           Off        20.425163   Thursday     Yes   \n",
       "999       Off            On         2.455657   Saturday      No   \n",
       "\n",
       "     EnergyConsumption  \n",
       "0            75.364373  \n",
       "1            83.401855  \n",
       "2            78.270888  \n",
       "3            56.519850  \n",
       "4            70.811732  \n",
       "..                 ...  \n",
       "995          82.306692  \n",
       "996          66.577320  \n",
       "997          72.753471  \n",
       "998          76.950389  \n",
       "999          71.545311  \n",
       "\n",
       "[1000 rows x 11 columns]"
      ]
     },
     "execution_count": 2,
     "metadata": {},
     "output_type": "execute_result"
    }
   ],
   "source": [
    "df = pd.read_csv('/kaggle/input/energy-consumption-prediction/Energy_consumption.csv')\n",
    "df\n"
   ]
  },
  {
   "cell_type": "code",
   "execution_count": 3,
   "id": "5b0ad253",
   "metadata": {
    "execution": {
     "iopub.execute_input": "2024-01-25T16:31:44.089227Z",
     "iopub.status.busy": "2024-01-25T16:31:44.088878Z",
     "iopub.status.idle": "2024-01-25T16:31:44.106033Z",
     "shell.execute_reply": "2024-01-25T16:31:44.105172Z"
    },
    "papermill": {
     "duration": 0.023679,
     "end_time": "2024-01-25T16:31:44.108281",
     "exception": false,
     "start_time": "2024-01-25T16:31:44.084602",
     "status": "completed"
    },
    "tags": []
   },
   "outputs": [],
   "source": [
    "df['HVACUsage'] = df['HVACUsage'].apply(lambda x: 1 if x == 'On' else 0)\n",
    "df['LightingUsage'] = df['LightingUsage'].apply(lambda x: 1 if x == 'On' else 0)\n",
    "\n",
    "features = ['Temperature', 'Humidity', 'SquareFootage', 'Occupancy', 'HVACUsage', 'LightingUsage', 'RenewableEnergy']\n",
    "\n",
    "X = df[features]\n",
    "y = df['EnergyConsumption']\n",
    "\n",
    "X_train, X_test, y_train, y_test = train_test_split(X, y, test_size=0.2, random_state=42)"
   ]
  },
  {
   "cell_type": "code",
   "execution_count": 4,
   "id": "29c2950a",
   "metadata": {
    "execution": {
     "iopub.execute_input": "2024-01-25T16:31:44.116195Z",
     "iopub.status.busy": "2024-01-25T16:31:44.115844Z",
     "iopub.status.idle": "2024-01-25T16:31:46.041250Z",
     "shell.execute_reply": "2024-01-25T16:31:46.040163Z"
    },
    "papermill": {
     "duration": 1.932144,
     "end_time": "2024-01-25T16:31:46.043801",
     "exception": false,
     "start_time": "2024-01-25T16:31:44.111657",
     "status": "completed"
    },
    "tags": []
   },
   "outputs": [
    {
     "data": {
      "text/html": [
       "<style>#sk-container-id-1 {color: black;background-color: white;}#sk-container-id-1 pre{padding: 0;}#sk-container-id-1 div.sk-toggleable {background-color: white;}#sk-container-id-1 label.sk-toggleable__label {cursor: pointer;display: block;width: 100%;margin-bottom: 0;padding: 0.3em;box-sizing: border-box;text-align: center;}#sk-container-id-1 label.sk-toggleable__label-arrow:before {content: \"▸\";float: left;margin-right: 0.25em;color: #696969;}#sk-container-id-1 label.sk-toggleable__label-arrow:hover:before {color: black;}#sk-container-id-1 div.sk-estimator:hover label.sk-toggleable__label-arrow:before {color: black;}#sk-container-id-1 div.sk-toggleable__content {max-height: 0;max-width: 0;overflow: hidden;text-align: left;background-color: #f0f8ff;}#sk-container-id-1 div.sk-toggleable__content pre {margin: 0.2em;color: black;border-radius: 0.25em;background-color: #f0f8ff;}#sk-container-id-1 input.sk-toggleable__control:checked~div.sk-toggleable__content {max-height: 200px;max-width: 100%;overflow: auto;}#sk-container-id-1 input.sk-toggleable__control:checked~label.sk-toggleable__label-arrow:before {content: \"▾\";}#sk-container-id-1 div.sk-estimator input.sk-toggleable__control:checked~label.sk-toggleable__label {background-color: #d4ebff;}#sk-container-id-1 div.sk-label input.sk-toggleable__control:checked~label.sk-toggleable__label {background-color: #d4ebff;}#sk-container-id-1 input.sk-hidden--visually {border: 0;clip: rect(1px 1px 1px 1px);clip: rect(1px, 1px, 1px, 1px);height: 1px;margin: -1px;overflow: hidden;padding: 0;position: absolute;width: 1px;}#sk-container-id-1 div.sk-estimator {font-family: monospace;background-color: #f0f8ff;border: 1px dotted black;border-radius: 0.25em;box-sizing: border-box;margin-bottom: 0.5em;}#sk-container-id-1 div.sk-estimator:hover {background-color: #d4ebff;}#sk-container-id-1 div.sk-parallel-item::after {content: \"\";width: 100%;border-bottom: 1px solid gray;flex-grow: 1;}#sk-container-id-1 div.sk-label:hover label.sk-toggleable__label {background-color: #d4ebff;}#sk-container-id-1 div.sk-serial::before {content: \"\";position: absolute;border-left: 1px solid gray;box-sizing: border-box;top: 0;bottom: 0;left: 50%;z-index: 0;}#sk-container-id-1 div.sk-serial {display: flex;flex-direction: column;align-items: center;background-color: white;padding-right: 0.2em;padding-left: 0.2em;position: relative;}#sk-container-id-1 div.sk-item {position: relative;z-index: 1;}#sk-container-id-1 div.sk-parallel {display: flex;align-items: stretch;justify-content: center;background-color: white;position: relative;}#sk-container-id-1 div.sk-item::before, #sk-container-id-1 div.sk-parallel-item::before {content: \"\";position: absolute;border-left: 1px solid gray;box-sizing: border-box;top: 0;bottom: 0;left: 50%;z-index: -1;}#sk-container-id-1 div.sk-parallel-item {display: flex;flex-direction: column;z-index: 1;position: relative;background-color: white;}#sk-container-id-1 div.sk-parallel-item:first-child::after {align-self: flex-end;width: 50%;}#sk-container-id-1 div.sk-parallel-item:last-child::after {align-self: flex-start;width: 50%;}#sk-container-id-1 div.sk-parallel-item:only-child::after {width: 0;}#sk-container-id-1 div.sk-dashed-wrapped {border: 1px dashed gray;margin: 0 0.4em 0.5em 0.4em;box-sizing: border-box;padding-bottom: 0.4em;background-color: white;}#sk-container-id-1 div.sk-label label {font-family: monospace;font-weight: bold;display: inline-block;line-height: 1.2em;}#sk-container-id-1 div.sk-label-container {text-align: center;}#sk-container-id-1 div.sk-container {/* jupyter's `normalize.less` sets `[hidden] { display: none; }` but bootstrap.min.css set `[hidden] { display: none !important; }` so we also need the `!important` here to be able to override the default hidden behavior on the sphinx rendered scikit-learn.org. See: https://github.com/scikit-learn/scikit-learn/issues/21755 */display: inline-block !important;position: relative;}#sk-container-id-1 div.sk-text-repr-fallback {display: none;}</style><div id=\"sk-container-id-1\" class=\"sk-top-container\"><div class=\"sk-text-repr-fallback\"><pre>RandomForestRegressor(n_estimators=500, random_state=42)</pre><b>In a Jupyter environment, please rerun this cell to show the HTML representation or trust the notebook. <br />On GitHub, the HTML representation is unable to render, please try loading this page with nbviewer.org.</b></div><div class=\"sk-container\" hidden><div class=\"sk-item\"><div class=\"sk-estimator sk-toggleable\"><input class=\"sk-toggleable__control sk-hidden--visually\" id=\"sk-estimator-id-1\" type=\"checkbox\" checked><label for=\"sk-estimator-id-1\" class=\"sk-toggleable__label sk-toggleable__label-arrow\">RandomForestRegressor</label><div class=\"sk-toggleable__content\"><pre>RandomForestRegressor(n_estimators=500, random_state=42)</pre></div></div></div></div></div>"
      ],
      "text/plain": [
       "RandomForestRegressor(n_estimators=500, random_state=42)"
      ]
     },
     "execution_count": 4,
     "metadata": {},
     "output_type": "execute_result"
    }
   ],
   "source": [
    "rf_model = RandomForestRegressor(n_estimators=500, random_state=42)\n",
    "rf_model.fit(X_train, y_train)"
   ]
  },
  {
   "cell_type": "code",
   "execution_count": 5,
   "id": "0a770153",
   "metadata": {
    "execution": {
     "iopub.execute_input": "2024-01-25T16:31:46.052790Z",
     "iopub.status.busy": "2024-01-25T16:31:46.052397Z",
     "iopub.status.idle": "2024-01-25T16:31:46.100243Z",
     "shell.execute_reply": "2024-01-25T16:31:46.099350Z"
    },
    "papermill": {
     "duration": 0.055363,
     "end_time": "2024-01-25T16:31:46.102837",
     "exception": false,
     "start_time": "2024-01-25T16:31:46.047474",
     "status": "completed"
    },
    "tags": []
   },
   "outputs": [],
   "source": [
    "y_pred_rf = rf_model.predict(X_test)\n",
    "mse_rf = mean_squared_error(y_test, y_pred_rf)"
   ]
  },
  {
   "cell_type": "code",
   "execution_count": 6,
   "id": "b11c2e01",
   "metadata": {
    "execution": {
     "iopub.execute_input": "2024-01-25T16:31:46.111820Z",
     "iopub.status.busy": "2024-01-25T16:31:46.111466Z",
     "iopub.status.idle": "2024-01-25T16:31:46.431145Z",
     "shell.execute_reply": "2024-01-25T16:31:46.430200Z"
    },
    "papermill": {
     "duration": 0.326654,
     "end_time": "2024-01-25T16:31:46.433332",
     "exception": false,
     "start_time": "2024-01-25T16:31:46.106678",
     "status": "completed"
    },
    "tags": []
   },
   "outputs": [
    {
     "data": {
      "image/png": "[encoded data removed]",
      "text/plain": [
       "<Figure size 640x480 with 1 Axes>"
      ]
     },
     "metadata": {},
     "output_type": "display_data"
    }
   ],
   "source": [
    "residuals = y_test - y_pred_rf\n",
    "plt.scatter(y_pred_rf, residuals)\n",
    "plt.xlabel('Predicted Energy Consumption (Random Forest)')\n",
    "plt.ylabel('Residuals')\n",
    "plt.title('Residual Plot')\n",
    "plt.show()\n"
   ]
  },
  {
   "cell_type": "markdown",
   "id": "cce3a36c",
   "metadata": {
    "papermill": {
     "duration": 0.0037,
     "end_time": "2024-01-25T16:31:46.441187",
     "exception": false,
     "start_time": "2024-01-25T16:31:46.437487",
     "status": "completed"
    },
    "tags": []
   },
   "source": [
    "The residuals are the differences between the actual energy consumption and the predicted energy consumption.\n",
    "Each point on the Y-axis represents the residual for a specific data point. If a point is above the X-axis, it means the model underpredicted the energy consumption for that data point. If a point is below the X-axis, it means the model overpredicted the energy consumption.\n",
    "\n",
    "The residuals are distributed randomly and show no discernible pattern, indicating that the model is capturing the underlying patterns in the data and making unbiased predictions.\n",
    "\n"
   ]
  },
  {
   "cell_type": "code",
   "execution_count": 7,
   "id": "d7cfbcee",
   "metadata": {
    "execution": {
     "iopub.execute_input": "2024-01-25T16:31:46.451345Z",
     "iopub.status.busy": "2024-01-25T16:31:46.450341Z",
     "iopub.status.idle": "2024-01-25T16:31:46.738162Z",
     "shell.execute_reply": "2024-01-25T16:31:46.737381Z"
    },
    "papermill": {
     "duration": 0.295414,
     "end_time": "2024-01-25T16:31:46.740564",
     "exception": false,
     "start_time": "2024-01-25T16:31:46.445150",
     "status": "completed"
    },
    "tags": []
   },
   "outputs": [
    {
     "data": {
      "image/png": "[encoded data removed]",
      "text/plain": [
       "<Figure size 640x480 with 1 Axes>"
      ]
     },
     "metadata": {},
     "output_type": "display_data"
    }
   ],
   "source": [
    "feature_importance = rf_model.feature_importances_\n",
    "features = X.columns\n",
    "plt.bar(features, feature_importance)\n",
    "plt.xlabel('Features')\n",
    "plt.ylabel('Feature Importance')\n",
    "plt.title('Random Forest Feature Importance')\n",
    "plt.xticks(rotation=45)\n",
    "plt.show()\n"
   ]
  },
  {
   "cell_type": "markdown",
   "id": "e5f0c7c6",
   "metadata": {
    "papermill": {
     "duration": 0.00436,
     "end_time": "2024-01-25T16:31:46.749774",
     "exception": false,
     "start_time": "2024-01-25T16:31:46.745414",
     "status": "completed"
    },
    "tags": []
   },
   "source": [
    "The plot allows you to visually inspect the relative importance of different features in the model.\n",
    "Features with higher importance values are considered more influential in predicting the target variable."
   ]
  }
 ],
 "metadata": {
  "kaggle": {
   "accelerator": "none",
   "dataSources": [
    {
     "datasetId": 4328284,
     "sourceId": 7436840,
     "sourceType": "datasetVersion"
    }
   ],
   "dockerImageVersionId": 30635,
   "isGpuEnabled": false,
   "isInternetEnabled": false,
   "language": "python",
   "sourceType": "notebook"
  },
  "kernelspec": {
   "display_name": "Python 3",
   "language": "python",
   "name": "python3"
  },
  "language_info": {
   "codemirror_mode": {
    "name": "ipython",
    "version": 3
   },
   "file_extension": ".py",
   "mimetype": "text/x-python",
   "name": "python",
   "nbconvert_exporter": "python",
   "pygments_lexer": "ipython3",
   "version": "3.10.12"
  },
  "papermill": {
   "default_parameters": {},
   "duration": 8.281578,
   "end_time": "2024-01-25T16:31:47.374575",
   "environment_variables": {},
   "exception": null,
   "input_path": "__notebook__.ipynb",
   "output_path": "__notebook__.ipynb",
   "parameters": {},
   "start_time": "2024-01-25T16:31:39.092997",
   "version": "2.4.0"
  }
 },
 "nbformat": 4,
 "nbformat_minor": 5
}
